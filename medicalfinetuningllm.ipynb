{
  "nbformat": 4,
  "nbformat_minor": 0,
  "metadata": {
    "colab": {
      "provenance": [],
      "gpuType": "T4",
      "authorship_tag": "ABX9TyNCdnmLDXqJE7pcobgJIJAV",
      "include_colab_link": true
    },
    "kernelspec": {
      "name": "python3",
      "display_name": "Python 3"
    },
    "language_info": {
      "name": "python"
    },
    "accelerator": "GPU"
  },
  "cells": [
    {
      "cell_type": "markdown",
      "metadata": {
        "id": "view-in-github",
        "colab_type": "text"
      },
      "source": [
        "<a href=\"https://colab.research.google.com/github/SakshamTalwar12/medicalgen/blob/main/medicalfinetuningllm.ipynb\" target=\"_parent\"><img src=\"https://colab.research.google.com/assets/colab-badge.svg\" alt=\"Open In Colab\"/></a>"
      ]
    },
    {
      "cell_type": "code",
      "execution_count": null,
      "metadata": {
        "id": "v7WOjy4HgO4v"
      },
      "outputs": [],
      "source": [
        "!pip install -q accelerate==0.21.0 peft==0.4.0 bitsandbytes==0.40.2 transformers==4.31.0 trl==0.4.7"
      ]
    },
    {
      "cell_type": "code",
      "source": [
        "!pip install huggingface_hub"
      ],
      "metadata": {
        "id": "QIFh3JzZgh32"
      },
      "execution_count": null,
      "outputs": []
    },
    {
      "cell_type": "code",
      "source": [
        "pip install torch transformers datasets peft trl bitsandbytes"
      ],
      "metadata": {
        "id": "orbd7kk3gnht"
      },
      "execution_count": null,
      "outputs": []
    },
    {
      "cell_type": "code",
      "source": [
        "import torch\n",
        "from trl import SFTTrainer\n",
        "from peft import LoraConfig\n",
        "from datasets import load_dataset\n",
        "from transformers import (AutoModelForCausalLM, AutoTokenizer, BitsAndBytesConfig, TrainingArguments, pipeline)"
      ],
      "metadata": {
        "id": "Sye6ci5ghJts"
      },
      "execution_count": null,
      "outputs": []
    },
    {
      "cell_type": "code",
      "source": [
        "llama_model = AutoModelForCausalLM.from_pretrained(pretrained_model_name_or_path = \"aboonaji/llama2finetune-v2\",\n",
        "                                                   quantization_config = BitsAndBytesConfig(load_in_4bit = True,\n",
        "                                                                                            bnb_4bit_compute_dtype = getattr(torch, \"float16\"),\n",
        "                                                                                            bnb_4bit_quant_type = \"nf4\"),  device_map=\"auto\")"
      ],
      "metadata": {
        "id": "HvNVGmHchct6"
      },
      "execution_count": null,
      "outputs": []
    },
    {
      "cell_type": "code",
      "source": [
        "llama_model.config.use_cache = False\n",
        "llama_model.config.pretraining_tp = 1"
      ],
      "metadata": {
        "id": "8swNE3tmWk-x"
      },
      "execution_count": null,
      "outputs": []
    },
    {
      "cell_type": "code",
      "source": [
        "llama_tokenizer= AutoTokenizer.from_pretrained(pretrained_model_name_or_path = \"aboonaji/llama2finetune-v2\", trust_remote_code=True)\n",
        "llama_tokenizer.pad_token= llama_tokenizer.eos_token\n",
        "llama_tokenizer.padding_side=\"right\""
      ],
      "metadata": {
        "id": "WnYzd0qmrHou"
      },
      "execution_count": null,
      "outputs": []
    },
    {
      "cell_type": "code",
      "source": [
        "training_arguments= TrainingArguments(output_dir=\"./results\", per_device_train_batch_size=1, max_steps=100)"
      ],
      "metadata": {
        "id": "SOWTn3a0taBU"
      },
      "execution_count": null,
      "outputs": []
    },
    {
      "cell_type": "code",
      "source": [
        "llama_sft_trainer= SFTTrainer(model= llama_model, args=training_arguments, train_dataset =load_dataset(path= \"aboonaji/wiki_medical_terms_llam2_format\", split=\"train\"), peft_config=LoraConfig ( task_type =\"CAUSAL_LM\", r= 8, lora_alpha=16, lora_dropout=0.1, target_modules=[\"q_proj\", \"v_proj\"]))"
      ],
      "metadata": {
        "id": "W5nXlEE8t6nx"
      },
      "execution_count": null,
      "outputs": []
    },
    {
      "cell_type": "code",
      "source": [
        "llama_sft_trainer.train()"
      ],
      "metadata": {
        "id": "79vXPDkVQvao"
      },
      "execution_count": null,
      "outputs": []
    },
    {
      "cell_type": "code",
      "source": [
        "user_prompt=\"Please tell me about fever\"\n",
        "text_generation_pipeline=pipeline(task= \"text-generation\", model=llama_model, tokenizer=llama_tokenizer, max_length=300)\n",
        "model_answer=text_generation_pipeline(f\"<s>[INST] {user_prompt} [/INST]\")\n",
        "print(model_answer[0]['generated_text'])"
      ],
      "metadata": {
        "id": "dKVW4l6PYna_"
      },
      "execution_count": null,
      "outputs": []
    },
    {
      "cell_type": "code",
      "source": [
        "!jupyter nbconvert --clear-output --inplace medicalfinetuningllm.ipynb\n"
      ],
      "metadata": {
        "id": "vWK7vTEQY0LD"
      },
      "execution_count": null,
      "outputs": []
    }
  ]
}